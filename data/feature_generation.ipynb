{
 "cells": [
  {
   "cell_type": "code",
   "execution_count": 1,
   "id": "f305725f",
   "metadata": {
    "scrolled": true
   },
   "outputs": [],
   "source": [
    "import pandas as pd\n",
    "import matplotlib.pyplot as plt\n",
    "import seaborn as sns\n",
    "import json\n",
    "import urllib\n",
    "import isodate\n",
    "import numpy as np\n",
    "import json\n",
    "\n",
    "raw_data = pd.read_csv('US_youtube_trending_data.csv')\n",
    "data_no_thumb = raw_data.drop(['thumbnail_link'],axis = 1) # dropping description column\n",
    "data = data_no_thumb.sample(n = 1000, random_state = 123)"
   ]
  },
  {
   "cell_type": "code",
   "execution_count": 2,
   "id": "18d8ba13",
   "metadata": {},
   "outputs": [
    {
     "data": {
      "text/html": [
       "<div>\n",
       "<style scoped>\n",
       "    .dataframe tbody tr th:only-of-type {\n",
       "        vertical-align: middle;\n",
       "    }\n",
       "\n",
       "    .dataframe tbody tr th {\n",
       "        vertical-align: top;\n",
       "    }\n",
       "\n",
       "    .dataframe thead th {\n",
       "        text-align: right;\n",
       "    }\n",
       "</style>\n",
       "<table border=\"1\" class=\"dataframe\">\n",
       "  <thead>\n",
       "    <tr style=\"text-align: right;\">\n",
       "      <th></th>\n",
       "      <th>video_id</th>\n",
       "      <th>title</th>\n",
       "      <th>publishedAt</th>\n",
       "      <th>channelId</th>\n",
       "      <th>channelTitle</th>\n",
       "      <th>categoryId</th>\n",
       "      <th>trending_date</th>\n",
       "      <th>tags</th>\n",
       "      <th>view_count</th>\n",
       "      <th>likes</th>\n",
       "      <th>dislikes</th>\n",
       "      <th>comment_count</th>\n",
       "      <th>comments_disabled</th>\n",
       "      <th>ratings_disabled</th>\n",
       "      <th>description</th>\n",
       "    </tr>\n",
       "  </thead>\n",
       "  <tbody>\n",
       "    <tr>\n",
       "      <th>15230</th>\n",
       "      <td>05HuTGeF5AA</td>\n",
       "      <td>Khabib Nurmagomedov Announces Retirement | UFC...</td>\n",
       "      <td>2020-10-24T21:27:37Z</td>\n",
       "      <td>UCvgfXK4nTYKudb0rFR6noLA</td>\n",
       "      <td>UFC - Ultimate Fighting Championship</td>\n",
       "      <td>17</td>\n",
       "      <td>2020-10-27T00:00:00Z</td>\n",
       "      <td>khabib|retires|nurmagomedov|retirement|annouce...</td>\n",
       "      <td>17992021</td>\n",
       "      <td>461029</td>\n",
       "      <td>10048</td>\n",
       "      <td>50333</td>\n",
       "      <td>False</td>\n",
       "      <td>False</td>\n",
       "      <td>After defeating Justin Gaethje and improving t...</td>\n",
       "    </tr>\n",
       "    <tr>\n",
       "      <th>9930</th>\n",
       "      <td>SXrOuIhoslA</td>\n",
       "      <td>TRYING MORE TIKTOK FOOD HACKS - Part 2</td>\n",
       "      <td>2020-09-26T15:33:12Z</td>\n",
       "      <td>UCjwmbv6NE4mOh8Z8VhPUx1Q</td>\n",
       "      <td>Rosanna Pansino</td>\n",
       "      <td>26</td>\n",
       "      <td>2020-09-30T00:00:00Z</td>\n",
       "      <td>tiktok|tik tok|hacks|tricks|recipe|food hacks|...</td>\n",
       "      <td>710333</td>\n",
       "      <td>36136</td>\n",
       "      <td>619</td>\n",
       "      <td>4093</td>\n",
       "      <td>False</td>\n",
       "      <td>False</td>\n",
       "      <td>Which recipe was your favorite???SUBSCRIBE ► h...</td>\n",
       "    </tr>\n",
       "    <tr>\n",
       "      <th>47588</th>\n",
       "      <td>hzwTq8ZZeyM</td>\n",
       "      <td>Among Us But Impostor Can Hide Bodies</td>\n",
       "      <td>2021-04-04T17:00:14Z</td>\n",
       "      <td>UCMDtoPUno_f-puMpHL3Uuqg</td>\n",
       "      <td>STA Studios</td>\n",
       "      <td>20</td>\n",
       "      <td>2021-04-10T00:00:00Z</td>\n",
       "      <td>[None]</td>\n",
       "      <td>1647002</td>\n",
       "      <td>49652</td>\n",
       "      <td>1676</td>\n",
       "      <td>2179</td>\n",
       "      <td>False</td>\n",
       "      <td>False</td>\n",
       "      <td>► SUBSCRIBE to the Channel! - https://www.yout...</td>\n",
       "    </tr>\n",
       "    <tr>\n",
       "      <th>32050</th>\n",
       "      <td>Z6dwgWQz-Ck</td>\n",
       "      <td>Try Not To Laugh Challenge #62 - Prop Tart!</td>\n",
       "      <td>2021-01-19T18:00:08Z</td>\n",
       "      <td>UCYJPby9DRCteedh5tfxVbrw</td>\n",
       "      <td>Smosh Pit</td>\n",
       "      <td>22</td>\n",
       "      <td>2021-01-23T00:00:00Z</td>\n",
       "      <td>smosh|smosh pit|smosh games|funny|comedy|Try N...</td>\n",
       "      <td>812308</td>\n",
       "      <td>51599</td>\n",
       "      <td>503</td>\n",
       "      <td>2235</td>\n",
       "      <td>False</td>\n",
       "      <td>False</td>\n",
       "      <td>Hold onto your wigs because the Try Not To Lau...</td>\n",
       "    </tr>\n",
       "    <tr>\n",
       "      <th>18385</th>\n",
       "      <td>Fy7FsMBcUk8</td>\n",
       "      <td>'최초 공개' ♬ AYA - 마마무(MAMAMOO) | MAMAMOO COMEBAC...</td>\n",
       "      <td>2020-11-03T13:02:21Z</td>\n",
       "      <td>UCbD8EppRX3ZwJSou-TVo90A</td>\n",
       "      <td>Mnet K-POP</td>\n",
       "      <td>24</td>\n",
       "      <td>2020-11-12T00:00:00Z</td>\n",
       "      <td>AYA|마마무|MAMAMOO|마마무컴백쇼|MAMAMOOCOMEBACKSHOW|MON...</td>\n",
       "      <td>3662591</td>\n",
       "      <td>248601</td>\n",
       "      <td>2797</td>\n",
       "      <td>10062</td>\n",
       "      <td>False</td>\n",
       "      <td>False</td>\n",
       "      <td>'최초 공개' ♬ AYA - 마마무(MAMAMOO) | MAMAMOO COMEBAC...</td>\n",
       "    </tr>\n",
       "  </tbody>\n",
       "</table>\n",
       "</div>"
      ],
      "text/plain": [
       "          video_id                                              title  \\\n",
       "15230  05HuTGeF5AA  Khabib Nurmagomedov Announces Retirement | UFC...   \n",
       "9930   SXrOuIhoslA             TRYING MORE TIKTOK FOOD HACKS - Part 2   \n",
       "47588  hzwTq8ZZeyM              Among Us But Impostor Can Hide Bodies   \n",
       "32050  Z6dwgWQz-Ck        Try Not To Laugh Challenge #62 - Prop Tart!   \n",
       "18385  Fy7FsMBcUk8  '최초 공개' ♬ AYA - 마마무(MAMAMOO) | MAMAMOO COMEBAC...   \n",
       "\n",
       "                publishedAt                 channelId  \\\n",
       "15230  2020-10-24T21:27:37Z  UCvgfXK4nTYKudb0rFR6noLA   \n",
       "9930   2020-09-26T15:33:12Z  UCjwmbv6NE4mOh8Z8VhPUx1Q   \n",
       "47588  2021-04-04T17:00:14Z  UCMDtoPUno_f-puMpHL3Uuqg   \n",
       "32050  2021-01-19T18:00:08Z  UCYJPby9DRCteedh5tfxVbrw   \n",
       "18385  2020-11-03T13:02:21Z  UCbD8EppRX3ZwJSou-TVo90A   \n",
       "\n",
       "                               channelTitle  categoryId         trending_date  \\\n",
       "15230  UFC - Ultimate Fighting Championship          17  2020-10-27T00:00:00Z   \n",
       "9930                        Rosanna Pansino          26  2020-09-30T00:00:00Z   \n",
       "47588                           STA Studios          20  2021-04-10T00:00:00Z   \n",
       "32050                             Smosh Pit          22  2021-01-23T00:00:00Z   \n",
       "18385                            Mnet K-POP          24  2020-11-12T00:00:00Z   \n",
       "\n",
       "                                                    tags  view_count   likes  \\\n",
       "15230  khabib|retires|nurmagomedov|retirement|annouce...    17992021  461029   \n",
       "9930   tiktok|tik tok|hacks|tricks|recipe|food hacks|...      710333   36136   \n",
       "47588                                             [None]     1647002   49652   \n",
       "32050  smosh|smosh pit|smosh games|funny|comedy|Try N...      812308   51599   \n",
       "18385  AYA|마마무|MAMAMOO|마마무컴백쇼|MAMAMOOCOMEBACKSHOW|MON...     3662591  248601   \n",
       "\n",
       "       dislikes  comment_count  comments_disabled  ratings_disabled  \\\n",
       "15230     10048          50333              False             False   \n",
       "9930        619           4093              False             False   \n",
       "47588      1676           2179              False             False   \n",
       "32050       503           2235              False             False   \n",
       "18385      2797          10062              False             False   \n",
       "\n",
       "                                             description  \n",
       "15230  After defeating Justin Gaethje and improving t...  \n",
       "9930   Which recipe was your favorite???SUBSCRIBE ► h...  \n",
       "47588  ► SUBSCRIBE to the Channel! - https://www.yout...  \n",
       "32050  Hold onto your wigs because the Try Not To Lau...  \n",
       "18385  '최초 공개' ♬ AYA - 마마무(MAMAMOO) | MAMAMOO COMEBAC...  "
      ]
     },
     "execution_count": 2,
     "metadata": {},
     "output_type": "execute_result"
    }
   ],
   "source": [
    "data.head()"
   ]
  },
  {
   "cell_type": "code",
   "execution_count": 3,
   "id": "7c290b55",
   "metadata": {},
   "outputs": [],
   "source": [
    "data = data[data['view_count'] != 0] # drop rows that have 'no views'"
   ]
  },
  {
   "cell_type": "code",
   "execution_count": 4,
   "id": "393adcbc",
   "metadata": {},
   "outputs": [],
   "source": [
    "def get_num_tags(tags):\n",
    "    '''Gets number of tags from string list of youtube tags.'''\n",
    "    if tags == '[None]':\n",
    "        return(0)\n",
    "    count = tags.count('|')\n",
    "    if count > 0:\n",
    "        return(count + 1)\n",
    "    else:\n",
    "        return 1"
   ]
  },
  {
   "cell_type": "code",
   "execution_count": 5,
   "id": "99741bf8",
   "metadata": {},
   "outputs": [],
   "source": [
    "data['num_tags'] = data['tags'].apply(get_num_tags)"
   ]
  },
  {
   "cell_type": "code",
   "execution_count": 6,
   "id": "727e300e",
   "metadata": {},
   "outputs": [],
   "source": [
    "data['num_caps'] = data['title'].str.count(r'[A-Z]')\n",
    "data['num_exc'] = data['title'].str.count('!')\n",
    "data['num_qm'] = data['title'].str.count('\\?')\n",
    "data['num_period'] = data['title'].str.count('\\.')\n",
    "data['num_dollar'] = data['title'].str.count('\\$')\n",
    "data['num_tags'] = data['tags'].str.count('|')\n",
    "data['title_length'] = data['title'].str.len()\n",
    "data['desc_length'] = data['description'].str.len()\n",
    "data['channel_length'] = data['channelTitle'].str.len()"
   ]
  },
  {
   "cell_type": "code",
   "execution_count": 7,
   "id": "ce121d86",
   "metadata": {},
   "outputs": [],
   "source": [
    "data['publishedAt'] = pd.to_datetime(data['publishedAt'])\n",
    "data['trending_date'] = pd.to_datetime(data['trending_date'])"
   ]
  },
  {
   "cell_type": "code",
   "execution_count": 8,
   "id": "e17cefe3",
   "metadata": {},
   "outputs": [],
   "source": [
    "data['publishedAt'] = data['publishedAt'].dt.tz_convert('US/Pacific') # convert timezone to PST"
   ]
  },
  {
   "cell_type": "code",
   "execution_count": 9,
   "id": "5bbe0423",
   "metadata": {},
   "outputs": [],
   "source": [
    "data['weekday_published'] = data['publishedAt'].dt.weekday # 0 is Monday, 6 is Sunday\n",
    "data['day_published'] = data['publishedAt'].dt.day \n",
    "data['hour_published'] = data['publishedAt'].dt.hour\n",
    "data['trending_age'] = data['trending_date'].dt.date - data['publishedAt'].dt.date"
   ]
  },
  {
   "cell_type": "code",
   "execution_count": 10,
   "id": "3213999e",
   "metadata": {},
   "outputs": [],
   "source": [
    "def get_trending_age(time_change):\n",
    "    return time_change.days"
   ]
  },
  {
   "cell_type": "code",
   "execution_count": 11,
   "id": "ee028e5a",
   "metadata": {},
   "outputs": [],
   "source": [
    "data['trending_age'] = data['trending_age'].apply(get_trending_age) # age of video when it went trending"
   ]
  },
  {
   "cell_type": "code",
   "execution_count": 12,
   "id": "903e8a50",
   "metadata": {
    "scrolled": true
   },
   "outputs": [],
   "source": [
    "def get_file_contents(filename):\n",
    "    \"\"\" Given a filename,\n",
    "        return the contents of that file\n",
    "    \"\"\"\n",
    "    try:\n",
    "        with open(filename, 'r') as f:\n",
    "            # It's assumed our file contains a single line,\n",
    "            # with our API key\n",
    "            return f.read().strip()\n",
    "    except FileNotFoundError:\n",
    "        print(\"'%s' file not found\" % filename)\n",
    "        \n",
    "key = get_file_contents('apikey.txt') "
   ]
  },
  {
   "cell_type": "code",
   "execution_count": 13,
   "id": "083cda28",
   "metadata": {},
   "outputs": [],
   "source": [
    "def get_video_length(video_id, api_key = key):\n",
    "    '''Gets video duration from youtube video id.'''\n",
    "    searchUrl=\"https://www.googleapis.com/youtube/v3/videos?part=snippet&id=\"+video_id+\"&key=\"+api_key+\"&part=contentDetails\"\n",
    "    req = urllib.request.Request(searchUrl)\n",
    "    response = urllib.request.urlopen(req).read().decode('utf-8')\n",
    "    dat = json.loads(response)\n",
    "    all_data = dat['items']\n",
    "    if all_data == []: # if video doesnt exist anymore, all_data will be empty\n",
    "        return(None)\n",
    "    else:\n",
    "        contentDetails=all_data[0]['contentDetails']\n",
    "        duration=contentDetails['duration']\n",
    "    return(duration)"
   ]
  },
  {
   "cell_type": "code",
   "execution_count": 14,
   "id": "e8db5d84",
   "metadata": {},
   "outputs": [],
   "source": [
    "def get_channel_info(channel_id, api_key = key):\n",
    "    '''Gets channel subscribers from youtube from channel id.'''\n",
    "    searchUrl=\"https://www.googleapis.com/youtube/v3/channels?part=statistics&id=\"+channel_id+\"&key=\"+api_key+\"&part=contentDetails\"\n",
    "    req = urllib.request.Request(searchUrl)\n",
    "    response = urllib.request.urlopen(req).read().decode('utf-8')\n",
    "    dat = json.loads(response)\n",
    "    if 'items' in dat:\n",
    "        all_data = dat['items']\n",
    "    else:\n",
    "        all_data = []\n",
    "    if all_data == []: # if channel doesnt exist anymore, all_data will be empty\n",
    "        return [None, None]\n",
    "    else:\n",
    "        statistics=all_data[0]['statistics']\n",
    "        if statistics['hiddenSubscriberCount'] == False: # check if subscriber count is empty\n",
    "            subscriberCount=statistics['subscriberCount']\n",
    "        else:\n",
    "            subscriberCount = None\n",
    "        videoCount=statistics['videoCount']\n",
    "        return [subscriberCount, videoCount]"
   ]
  },
  {
   "cell_type": "code",
   "execution_count": 15,
   "id": "7e5910b1",
   "metadata": {},
   "outputs": [],
   "source": [
    "data['video_length'] = data['video_id'].apply(get_video_length)"
   ]
  },
  {
   "cell_type": "code",
   "execution_count": 16,
   "id": "a5b08212",
   "metadata": {},
   "outputs": [],
   "source": [
    "channel_info = pd.DataFrame(data['channelId'].apply(get_channel_info))\n",
    "data[['subscriberCount','videoCount']] = pd.DataFrame(channel_info.channelId.tolist(), index = channel_info.index)"
   ]
  },
  {
   "cell_type": "code",
   "execution_count": 17,
   "id": "413c0194",
   "metadata": {},
   "outputs": [],
   "source": [
    "def convert_duration(duration):\n",
    "    '''Converts duration to seconds.'''\n",
    "    t = isodate.parse_duration(duration)\n",
    "    return(t.total_seconds())"
   ]
  },
  {
   "cell_type": "code",
   "execution_count": 18,
   "id": "d9ddd3b1",
   "metadata": {},
   "outputs": [],
   "source": [
    "data = data.dropna(subset = ['video_length']) # drop columns with missing video length as this means video no longer exists. "
   ]
  },
  {
   "cell_type": "code",
   "execution_count": 19,
   "id": "87296df9",
   "metadata": {},
   "outputs": [],
   "source": [
    "data['video_length'] = data['video_length'].apply(convert_duration)"
   ]
  },
  {
   "cell_type": "code",
   "execution_count": 20,
   "id": "747dd9f6",
   "metadata": {},
   "outputs": [],
   "source": [
    "with open('US_category_id.json', 'r') as myfile:\n",
    "    cat=myfile.read()\n",
    "US_category_id = json.loads(cat)"
   ]
  },
  {
   "cell_type": "code",
   "execution_count": 21,
   "id": "b3c54721",
   "metadata": {},
   "outputs": [],
   "source": [
    "def get_category(n):\n",
    "    '''Gets category using categoryId.'''\n",
    "    return US_category_id['items'][n]['snippet']['title']"
   ]
  },
  {
   "cell_type": "code",
   "execution_count": 22,
   "id": "02f6e1b8",
   "metadata": {},
   "outputs": [],
   "source": [
    "data['category'] = data['categoryId'].apply(get_category)"
   ]
  },
  {
   "cell_type": "code",
   "execution_count": 23,
   "id": "340d41a8",
   "metadata": {},
   "outputs": [],
   "source": [
    "data.to_csv('youtube_data.csv')  "
   ]
  },
  {
   "cell_type": "code",
   "execution_count": null,
   "id": "0b38066c",
   "metadata": {},
   "outputs": [],
   "source": []
  }
 ],
 "metadata": {
  "kernelspec": {
   "display_name": "Python 3",
   "language": "python",
   "name": "python3"
  },
  "language_info": {
   "codemirror_mode": {
    "name": "ipython",
    "version": 3
   },
   "file_extension": ".py",
   "mimetype": "text/x-python",
   "name": "python",
   "nbconvert_exporter": "python",
   "pygments_lexer": "ipython3",
   "version": "3.8.5"
  }
 },
 "nbformat": 4,
 "nbformat_minor": 5
}
