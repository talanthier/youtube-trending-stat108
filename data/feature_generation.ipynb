{
 "cells": [
  {
   "cell_type": "code",
   "execution_count": 1,
   "id": "f305725f",
   "metadata": {
    "scrolled": true
   },
   "outputs": [],
   "source": [
    "import pandas as pd\n",
    "import matplotlib.pyplot as plt\n",
    "import seaborn as sns\n",
    "import json\n",
    "import urllib\n",
    "import isodate\n",
    "import numpy as np\n",
    "import json\n",
    "\n",
    "raw_data = pd.read_csv('US_youtube_trending_data.csv', index_col = False)\n",
    "data_no_desc = raw_data.drop(['description' , 'thumbnail_link'],axis = 1) # dropping description column\n",
    "data = data_no_desc.sample(n = 1000, random_state = 123)"
   ]
  },
  {
   "cell_type": "code",
   "execution_count": 2,
   "id": "7c290b55",
   "metadata": {},
   "outputs": [],
   "source": [
    "data = data[data['view_count'] != 0] # drop rows that have 'no views'"
   ]
  },
  {
   "cell_type": "code",
   "execution_count": 3,
   "id": "393adcbc",
   "metadata": {},
   "outputs": [],
   "source": [
    "def get_num_tags(tags):\n",
    "    '''Gets number of tags from string list of youtube tags.'''\n",
    "    if tags == '[None]':\n",
    "        return(0)\n",
    "    count = tags.count('|')\n",
    "    if count > 0:\n",
    "        return(count + 1)\n",
    "    else:\n",
    "        return 1"
   ]
  },
  {
   "cell_type": "code",
   "execution_count": 4,
   "id": "99741bf8",
   "metadata": {},
   "outputs": [],
   "source": [
    "data['num_tags'] = data['tags'].apply(get_num_tags)"
   ]
  },
  {
   "cell_type": "code",
   "execution_count": 5,
   "id": "727e300e",
   "metadata": {},
   "outputs": [],
   "source": [
    "data['num_caps'] = data['title'].str.count(r'[A-Z]')\n",
    "data['num_exc'] = data['title'].str.count('!')\n",
    "data['num_qm'] = data['title'].str.count('\\?')\n",
    "data['num_period'] = data['title'].str.count('\\.')\n",
    "data['num_dollar'] = data['title'].str.count('\\$')\n",
    "data['num_tags'] = data['tags'].str.count('|')\n",
    "data['title_length'] = data['title'].str.len()"
   ]
  },
  {
   "cell_type": "code",
   "execution_count": 6,
   "id": "ce121d86",
   "metadata": {},
   "outputs": [],
   "source": [
    "data['publishedAt'] = pd.to_datetime(data['publishedAt'])\n",
    "data['trending_date'] = pd.to_datetime(data['trending_date'])"
   ]
  },
  {
   "cell_type": "code",
   "execution_count": 7,
   "id": "5bbe0423",
   "metadata": {},
   "outputs": [],
   "source": [
    "data['weekday_published'] = data['publishedAt'].dt.weekday # 0 is Monday, 6 is Sunday\n",
    "data['day_published'] = data['publishedAt'].dt.day \n",
    "data['hour_published'] = data['publishedAt'].dt.hour\n",
    "data['trending_age'] = data['trending_date'].dt.date - data['publishedAt'].dt.date"
   ]
  },
  {
   "cell_type": "code",
   "execution_count": 8,
   "id": "c917a5d6",
   "metadata": {},
   "outputs": [],
   "source": [
    "def get_trending_age(time_change):\n",
    "    return time_change.days"
   ]
  },
  {
   "cell_type": "code",
   "execution_count": 9,
   "id": "b738d7f5",
   "metadata": {},
   "outputs": [],
   "source": [
    "data['trending_age'] = data['trending_age'].apply(get_trending_age) # age of video when it went trending"
   ]
  },
  {
   "cell_type": "code",
   "execution_count": 10,
   "id": "903e8a50",
   "metadata": {
    "scrolled": true
   },
   "outputs": [],
   "source": [
    "def get_file_contents(filename):\n",
    "    \"\"\" Given a filename,\n",
    "        return the contents of that file\n",
    "    \"\"\"\n",
    "    try:\n",
    "        with open(filename, 'r') as f:\n",
    "            # It's assumed our file contains a single line,\n",
    "            # with our API key\n",
    "            return f.read().strip()\n",
    "    except FileNotFoundError:\n",
    "        print(\"'%s' file not found\" % filename)\n",
    "        \n",
    "key = get_file_contents('apikey.txt') "
   ]
  },
  {
   "cell_type": "code",
   "execution_count": 11,
   "id": "083cda28",
   "metadata": {},
   "outputs": [],
   "source": [
    "def get_video_length(video_id, api_key = key):\n",
    "    '''Gets video duration from youtube given id and api key.'''\n",
    "    searchUrl=\"https://www.googleapis.com/youtube/v3/videos?id=\"+video_id+\"&key=\"+api_key+\"&part=contentDetails\"\n",
    "    req = urllib.request.Request(searchUrl)\n",
    "    response = urllib.request.urlopen(req).read().decode('utf-8')\n",
    "    data = json.loads(response)\n",
    "    all_data = data['items']\n",
    "    if all_data == []: # if video doesnt exist anymore, all_data will be empty\n",
    "        return(None)\n",
    "    else:\n",
    "        contentDetails=all_data[0]['contentDetails']\n",
    "        duration=contentDetails['duration']\n",
    "    return(duration)"
   ]
  },
  {
   "cell_type": "code",
   "execution_count": null,
   "id": "ac3f4973",
   "metadata": {},
   "outputs": [],
   "source": [
    "data['video_length'] = data['video_id'].apply(get_video_length)"
   ]
  },
  {
   "cell_type": "code",
   "execution_count": null,
   "id": "9f7d7260",
   "metadata": {},
   "outputs": [],
   "source": [
    "data = data.dropna(subset = ['video_length']) # drop columns with missing video length as this means video no longer exists. "
   ]
  },
  {
   "cell_type": "code",
   "execution_count": null,
   "id": "413c0194",
   "metadata": {},
   "outputs": [],
   "source": [
    "def convert_duration(duration):\n",
    "    '''Converts duration to seconds.'''\n",
    "    t = isodate.parse_duration(duration)\n",
    "    return(t.total_seconds())"
   ]
  },
  {
   "cell_type": "code",
   "execution_count": null,
   "id": "87296df9",
   "metadata": {},
   "outputs": [],
   "source": [
    "data['video_length'] = data['video_length'].apply(convert_duration)"
   ]
  },
  {
   "cell_type": "code",
   "execution_count": null,
   "id": "747dd9f6",
   "metadata": {},
   "outputs": [],
   "source": [
    "with open('US_category_id.json', 'r') as myfile:\n",
    "    cat=myfile.read()\n",
    "US_category_id = json.loads(cat)"
   ]
  },
  {
   "cell_type": "code",
   "execution_count": null,
   "id": "b3c54721",
   "metadata": {},
   "outputs": [],
   "source": [
    "def get_category(n):\n",
    "    '''Gets category using categoryId.'''\n",
    "    return US_category_id['items'][n]['snippet']['title']"
   ]
  },
  {
   "cell_type": "code",
   "execution_count": null,
   "id": "02f6e1b8",
   "metadata": {},
   "outputs": [],
   "source": [
    "data['category'] = data['categoryId'].apply(get_category)"
   ]
  },
  {
   "cell_type": "code",
   "execution_count": null,
   "id": "340d41a8",
   "metadata": {},
   "outputs": [],
   "source": [
    "data.to_csv('youtube_data.csv')  "
   ]
  },
  {
   "cell_type": "code",
   "execution_count": null,
   "id": "a566798b",
   "metadata": {},
   "outputs": [],
   "source": []
  }
 ],
 "metadata": {
  "kernelspec": {
   "display_name": "Python 3",
   "language": "python",
   "name": "python3"
  },
  "language_info": {
   "codemirror_mode": {
    "name": "ipython",
    "version": 3
   },
   "file_extension": ".py",
   "mimetype": "text/x-python",
   "name": "python",
   "nbconvert_exporter": "python",
   "pygments_lexer": "ipython3",
   "version": "3.8.5"
  }
 },
 "nbformat": 4,
 "nbformat_minor": 5
}
